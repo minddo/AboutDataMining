{
  "nbformat": 4,
  "nbformat_minor": 0,
  "metadata": {
    "colab": {
      "name": "Assignment4.ipynb",
      "version": "0.3.2",
      "provenance": [],
      "include_colab_link": true
    },
    "language_info": {
      "codemirror_mode": {
        "name": "ipython",
        "version": 3
      },
      "file_extension": ".py",
      "mimetype": "text/x-python",
      "name": "python",
      "nbconvert_exporter": "python",
      "pygments_lexer": "ipython3",
      "version": "3.5.6"
    },
    "kernelspec": {
      "display_name": "Python [default]",
      "language": "python",
      "name": "python3"
    }
  },
  "cells": [
    {
      "cell_type": "markdown",
      "metadata": {
        "id": "view-in-github",
        "colab_type": "text"
      },
      "source": [
        "<a href=\"https://colab.research.google.com/github/minddo/AboutDataMining/blob/master/Assignment4.ipynb\" target=\"_parent\"><img src=\"https://colab.research.google.com/assets/colab-badge.svg\" alt=\"Open In Colab\"/></a>"
      ]
    },
    {
      "cell_type": "markdown",
      "metadata": {
        "id": "VaPA3EnkunPK",
        "colab_type": "text"
      },
      "source": [
        "# KSE525 Assignment 4"
      ]
    },
    {
      "cell_type": "markdown",
      "metadata": {
        "id": "X5zaKHVlunPM",
        "colab_type": "text"
      },
      "source": [
        "# Assignment 4-1"
      ]
    },
    {
      "cell_type": "markdown",
      "metadata": {
        "id": "lUfS1OO-unPO",
        "colab_type": "text"
      },
      "source": [
        "### Q1: What is the difference between Bagging and Boosting?"
      ]
    },
    {
      "cell_type": "markdown",
      "metadata": {
        "id": "YEbavtzqunPQ",
        "colab_type": "text"
      },
      "source": [
        "__Your Answer (less than 5 sentences):__ In case of **Bagging**, it uses indivisual traning sets and classifiers are **independent**(sample traning setwith replacement). And it involves having each model in the ensemble vote with **equal weight**. But in case of **Boosting**, it involves incrementally building an ensemble by training each new model instance to emphasize the training instances that previous models misclassified(so they are **dependent**) and all traning examples are used in each iteration, but with **different weight**"
      ]
    },
    {
      "cell_type": "markdown",
      "metadata": {
        "id": "a5UeQzysunPR",
        "colab_type": "text"
      },
      "source": [
        "### Q2: If your AdaBoost ensemble underfits the training data, what hyperparameters should you tweak and how?"
      ]
    },
    {
      "cell_type": "markdown",
      "metadata": {
        "id": "8fg9yTRIunPT",
        "colab_type": "text"
      },
      "source": [
        "__Your Answer (less than 3 sentences):__ \n",
        "We can try control the number of estimators, the regularization hyperparameters and learning rate. we should increasing the number of **estimators** and reducing the **regularization hyperparameters** of the base estimator. Also we  try increasing the **learning rate**."
      ]
    },
    {
      "cell_type": "markdown",
      "metadata": {
        "id": "ikFPX29ounPU",
        "colab_type": "text"
      },
      "source": [
        "# Assignment 4-2"
      ]
    },
    {
      "cell_type": "code",
      "metadata": {
        "id": "4ivFwWGvunPW",
        "colab_type": "code",
        "colab": {}
      },
      "source": [
        "# Start from importing necessary packages.\n",
        "import warnings\n",
        "import numpy as np\n",
        "import matplotlib.pyplot as plt\n",
        "import matplotlib.cm as cm\n",
        "\n",
        "from IPython.display import display\n",
        "from sklearn import metrics # for evaluations\n",
        "from sklearn.datasets import make_blobs, make_circles # for generating experimental data\n",
        "from sklearn.preprocessing import StandardScaler # for feature scaling\n",
        "from sklearn.cluster import KMeans \n",
        "from sklearn.cluster import DBSCAN\n",
        "\n",
        "# make matplotlib plot inline (Only in Ipython).\n",
        "warnings.filterwarnings('ignore')\n",
        "%matplotlib inline"
      ],
      "execution_count": 0,
      "outputs": []
    },
    {
      "cell_type": "markdown",
      "metadata": {
        "id": "QfQ83pMFunPc",
        "colab_type": "text"
      },
      "source": [
        " ### 1. Please generate 2-D training data and visualize the ground truth.<br>\n",
        " Notes on `make_blobs()`:\n",
        " - `cluster_std`: The standard deviation of the clusters (the degree of data dispersion in clusters), e.g. a floating number.\n",
        " - `center_box`: The bounding box for each cluster center when centers are generated at random, e.g. a tuple `(min, max)`."
      ]
    },
    {
      "cell_type": "code",
      "metadata": {
        "id": "M3NyE3-HunPd",
        "colab_type": "code",
        "colab": {},
        "outputId": "83d966fd-04d4-4558-e8ee-a3314b407749"
      },
      "source": [
        "\"\"\" TODO: Generate the training data \"\"\"\n",
        "X, y = make_blobs(n_samples=10000,\n",
        "                   n_features=2,\n",
        "                   centers=4,\n",
        "                   cluster_std=5.0,\n",
        "                   center_box=(0,150))\n",
        "\n",
        "\"\"\" TODO: Visualize the training data \"\"\"\n",
        "\n",
        "plt.scatter(X[:,0],X[:,1], c=y)"
      ],
      "execution_count": 0,
      "outputs": [
        {
          "output_type": "execute_result",
          "data": {
            "text/plain": [
              "<matplotlib.collections.PathCollection at 0x19bb7053710>"
            ]
          },
          "metadata": {
            "tags": []
          },
          "execution_count": 2
        },
        {
          "output_type": "display_data",
          "data": {
            "image/png": "[encoded data removed]",
            "text/plain": [
              "<Figure size 432x288 with 1 Axes>"
            ]
          },
          "metadata": {
            "tags": [],
            "needs_background": "light"
          }
        }
      ]
    },
    {
      "cell_type": "markdown",
      "metadata": {
        "id": "04IOg9weunPh",
        "colab_type": "text"
      },
      "source": [
        "### 2. Apply *k-means* on your training data and visualize the predictions and centroids."
      ]
    },
    {
      "cell_type": "code",
      "metadata": {
        "id": "UqVCdVFCunPi",
        "colab_type": "code",
        "colab": {},
        "outputId": "661db5d6-881d-4790-8428-a3c853e54746"
      },
      "source": [
        "\"\"\" TODO: Generate the training data \"\"\"\n",
        "\n",
        "\n",
        "kmeans = KMeans(n_clusters=4,\n",
        "                  n_init=5,\n",
        "                  tol=1e-4, \n",
        "                  verbose=True).fit(X)\n",
        "\n",
        "\"\"\" TODO: Visualize the predictions \"\"\"\n",
        "\n",
        "plt.scatter(X[:,0],X[:,1], c=kmeans.labels_)\n",
        "\n",
        "\"\"\" TODO: Visualize centroids \"\"\"\n",
        "\n",
        "plt.scatter(kmeans.cluster_centers_[:,0], \n",
        "            kmeans.cluster_centers_[:,1], \n",
        "            c='w', marker='x', linewidths=2)"
      ],
      "execution_count": 0,
      "outputs": [
        {
          "output_type": "stream",
          "text": [
            "Initialization complete\n",
            "start iteration\n",
            "done sorting\n",
            "end inner loop\n",
            "Iteration 0, inertia 507192.4566675933\n",
            "start iteration\n",
            "done sorting\n",
            "end inner loop\n",
            "Iteration 1, inertia 507139.3910723666\n",
            "center shift 2.181011e-02 within tolerance 1.822894e-01\n",
            "Initialization complete\n",
            "start iteration\n",
            "done sorting\n",
            "end inner loop\n",
            "Iteration 0, inertia 507192.4566675933\n",
            "start iteration\n",
            "done sorting\n",
            "end inner loop\n",
            "Iteration 1, inertia 507139.3910723666\n",
            "center shift 2.181011e-02 within tolerance 1.822894e-01\n",
            "Initialization complete\n",
            "start iteration\n",
            "done sorting\n",
            "end inner loop\n",
            "Iteration 0, inertia 508488.4925620681\n",
            "start iteration\n",
            "done sorting\n",
            "end inner loop\n",
            "Iteration 1, inertia 507139.3910723666\n",
            "center shift 9.635590e-02 within tolerance 1.822894e-01\n",
            "Initialization complete\n",
            "start iteration\n",
            "done sorting\n",
            "end inner loop\n",
            "Iteration 0, inertia 523467.3758120953\n",
            "start iteration\n",
            "done sorting\n",
            "end inner loop\n",
            "Iteration 1, inertia 507139.3910723666\n",
            "start iteration\n",
            "done sorting\n",
            "end inner loop\n",
            "Iteration 2, inertia 507139.3910723666\n",
            "center shift 0.000000e+00 within tolerance 1.822894e-01\n",
            "Initialization complete\n",
            "start iteration\n",
            "done sorting\n",
            "end inner loop\n",
            "Iteration 0, inertia 507139.3910723666\n",
            "start iteration\n",
            "done sorting\n",
            "end inner loop\n",
            "Iteration 1, inertia 507139.3910723666\n",
            "center shift 0.000000e+00 within tolerance 1.822894e-01\n"
          ],
          "name": "stdout"
        },
        {
          "output_type": "execute_result",
          "data": {
            "text/plain": [
              "<matplotlib.collections.PathCollection at 0x19bb70d3908>"
            ]
          },
          "metadata": {
            "tags": []
          },
          "execution_count": 3
        },
        {
          "output_type": "display_data",
          "data": {
            "image/png": "[encoded data removed]",
            "text/plain": [
              "<Figure size 432x288 with 1 Axes>"
            ]
          },
          "metadata": {
            "tags": [],
            "needs_background": "light"
          }
        }
      ]
    }
  ]
}