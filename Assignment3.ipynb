{
  "nbformat": 4,
  "nbformat_minor": 0,
  "metadata": {
    "colab": {
      "name": "Assignment3.ipynb",
      "version": "0.3.2",
      "provenance": [],
      "include_colab_link": true
    },
    "language_info": {
      "codemirror_mode": {
        "name": "ipython",
        "version": 3
      },
      "file_extension": ".py",
      "mimetype": "text/x-python",
      "name": "python",
      "nbconvert_exporter": "python",
      "pygments_lexer": "ipython3",
      "version": "3.5.6"
    },
    "kernelspec": {
      "display_name": "Python [default]",
      "language": "python",
      "name": "python3"
    }
  },
  "cells": [
    {
      "cell_type": "markdown",
      "metadata": {
        "id": "view-in-github",
        "colab_type": "text"
      },
      "source": [
        "<a href=\"https://colab.research.google.com/github/minddo/AboutDataMining/blob/master/Assignment3.ipynb\" target=\"_parent\"><img src=\"https://colab.research.google.com/assets/colab-badge.svg\" alt=\"Open In Colab\"/></a>"
      ]
    },
    {
      "cell_type": "markdown",
      "metadata": {
        "id": "K54L1wD4eLU3",
        "colab_type": "text"
      },
      "source": [
        "# KSE525 Assignment 3"
      ]
    },
    {
      "cell_type": "code",
      "metadata": {
        "id": "Zw1cM9eXeLU5",
        "colab_type": "code",
        "colab": {}
      },
      "source": [
        "# To support both python 2 and python 3\n",
        "from __future__ import division, print_function, unicode_literals\n",
        "\n",
        "# Common imports\n",
        "import numpy as np\n",
        "import os\n",
        "\n",
        "# to make this notebook's output stable across runs\n",
        "np.random.seed(42)\n",
        "\n",
        "# To plot pretty figures\n",
        "%matplotlib inline\n",
        "import matplotlib as mpl\n",
        "import matplotlib.pyplot as plt\n",
        "mpl.rc('axes', labelsize=14)\n",
        "mpl.rc('xtick', labelsize=12)\n",
        "mpl.rc('ytick', labelsize=12)"
      ],
      "execution_count": 0,
      "outputs": []
    },
    {
      "cell_type": "code",
      "metadata": {
        "id": "Mupl5vu9eLU_",
        "colab_type": "code",
        "colab": {}
      },
      "source": [
        "from sklearn.tree import DecisionTreeClassifier\n",
        "from sklearn.pipeline import Pipeline\n",
        "from sklearn.preprocessing import StandardScaler\n",
        "from sklearn.svm import LinearSVC\n",
        "from sklearn.svm import SVC"
      ],
      "execution_count": 0,
      "outputs": []
    },
    {
      "cell_type": "markdown",
      "metadata": {
        "id": "yU382trMeLVE",
        "colab_type": "text"
      },
      "source": [
        "# Assignment 3-1"
      ]
    },
    {
      "cell_type": "markdown",
      "metadata": {
        "id": "pOB_rysoeLVF",
        "colab_type": "text"
      },
      "source": [
        "### Train and fine-tune a Decision Tree for the moons dataset."
      ]
    },
    {
      "cell_type": "markdown",
      "metadata": {
        "id": "9AaDr-4ZeLVH",
        "colab_type": "text"
      },
      "source": [
        "__a__. Generate a moons dataset using `make_moons(n_samples=10000, noise=0.4)`."
      ]
    },
    {
      "cell_type": "markdown",
      "metadata": {
        "id": "iTQ3X5zneLVJ",
        "colab_type": "text"
      },
      "source": [
        "Adding `random_state=42` to make this notebook's output constant:"
      ]
    },
    {
      "cell_type": "code",
      "metadata": {
        "id": "0vVObs0seLVK",
        "colab_type": "code",
        "colab": {}
      },
      "source": [
        "from sklearn.datasets import make_moons\n",
        "\n",
        "Xm, ym = make_moons(n_samples=10000, noise=0.4, random_state=42)"
      ],
      "execution_count": 0,
      "outputs": []
    },
    {
      "cell_type": "markdown",
      "metadata": {
        "id": "sFooEWLteLVP",
        "colab_type": "text"
      },
      "source": [
        "__b__. Split it into a training set and a test set using `train_test_split()`."
      ]
    },
    {
      "cell_type": "code",
      "metadata": {
        "id": "Y7Gr37KTeLVR",
        "colab_type": "code",
        "colab": {}
      },
      "source": [
        "from sklearn.model_selection import train_test_split\n",
        "\n",
        "Xm_train, Xm_test, ym_train, ym_test = train_test_split(Xm, ym, test_size=0.3, random_state=42)"
      ],
      "execution_count": 0,
      "outputs": []
    },
    {
      "cell_type": "markdown",
      "metadata": {
        "id": "6UyIu_zGeLVV",
        "colab_type": "text"
      },
      "source": [
        "__c__. Use grid search with cross-validation (with the help of the `GridSearchCV` class) to find good hyperparameter values for a `DecisionTreeClassifier`. Hint: try various values for `max_leaf_nodes`."
      ]
    },
    {
      "cell_type": "code",
      "metadata": {
        "id": "KZ3hs8ZBeLVX",
        "colab_type": "code",
        "colab": {},
        "outputId": "6c69e2bb-536d-43f7-b4fe-dbcecdd00a47"
      },
      "source": [
        "from sklearn.model_selection import GridSearchCV\n",
        "\n",
        "parameters = {'max_leaf_nodes': list(range(5, 100))}\n",
        "grid_search_cv = GridSearchCV(DecisionTreeClassifier(random_state=42), parameters, cv=3, n_jobs=-1, verbose=1)\n",
        "\n",
        "grid_search_cv.fit(Xm_train, ym_train)"
      ],
      "execution_count": 0,
      "outputs": [
        {
          "output_type": "stream",
          "text": [
            "Fitting 3 folds for each of 95 candidates, totalling 285 fits\n"
          ],
          "name": "stdout"
        },
        {
          "output_type": "stream",
          "text": [
            "[Parallel(n_jobs=-1)]: Using backend LokyBackend with 4 concurrent workers.\n",
            "[Parallel(n_jobs=-1)]: Done 285 out of 285 | elapsed:    2.5s finished\n"
          ],
          "name": "stderr"
        },
        {
          "output_type": "execute_result",
          "data": {
            "text/plain": [
              "GridSearchCV(cv=3, error_score='raise-deprecating',\n",
              "       estimator=DecisionTreeClassifier(class_weight=None, criterion='gini', max_depth=None,\n",
              "            max_features=None, max_leaf_nodes=None,\n",
              "            min_impurity_decrease=0.0, min_impurity_split=None,\n",
              "            min_samples_leaf=1, min_samples_split=2,\n",
              "            min_weight_fraction_leaf=0.0, presort=False, random_state=42,\n",
              "            splitter='best'),\n",
              "       fit_params=None, iid='warn', n_jobs=-1,\n",
              "       param_grid={'max_leaf_nodes': [5, 6, 7, 8, 9, 10, 11, 12, 13, 14, 15, 16, 17, 18, 19, 20, 21, 22, 23, 24, 25, 26, 27, 28, 29, 30, 31, 32, 33, 34, 35, 36, 37, 38, 39, 40, 41, 42, 43, 44, 45, 46, 47, 48, 49, 50, 51, 52, 53, 54, 55, 56, 57, 58, 59, 60, 61, 62, 63, 64, 65, 66, 67, 68, 69, 70, 71, 72, 73, 74, 75, 76, 77, 78, 79, 80, 81, 82, 83, 84, 85, 86, 87, 88, 89, 90, 91, 92, 93, 94, 95, 96, 97, 98, 99]},\n",
              "       pre_dispatch='2*n_jobs', refit=True, return_train_score='warn',\n",
              "       scoring=None, verbose=1)"
            ]
          },
          "metadata": {
            "tags": []
          },
          "execution_count": 5
        }
      ]
    },
    {
      "cell_type": "code",
      "metadata": {
        "id": "BBqttHyCeLVa",
        "colab_type": "code",
        "colab": {},
        "outputId": "0202338f-57a6-4a9f-cfb0-2a826aef2b55"
      },
      "source": [
        "grid_search_cv.best_estimator_"
      ],
      "execution_count": 0,
      "outputs": [
        {
          "output_type": "execute_result",
          "data": {
            "text/plain": [
              "DecisionTreeClassifier(class_weight=None, criterion='gini', max_depth=None,\n",
              "            max_features=None, max_leaf_nodes=24,\n",
              "            min_impurity_decrease=0.0, min_impurity_split=None,\n",
              "            min_samples_leaf=1, min_samples_split=2,\n",
              "            min_weight_fraction_leaf=0.0, presort=False, random_state=42,\n",
              "            splitter='best')"
            ]
          },
          "metadata": {
            "tags": []
          },
          "execution_count": 6
        }
      ]
    },
    {
      "cell_type": "markdown",
      "metadata": {
        "id": "Ky-Qg3ZBeLVd",
        "colab_type": "text"
      },
      "source": [
        "__d__. Train it on the full training set using these hyperparameters, and measure your model's performance on the test set. You should get roughly 85% to 87% accuracy."
      ]
    },
    {
      "cell_type": "markdown",
      "metadata": {
        "id": "fmZlOOLkeLVe",
        "colab_type": "text"
      },
      "source": [
        "By default, `GridSearchCV` trains the best model found on the whole training set (you can change this by setting `refit=False`), so we don't need to do it again. We can simply evaluate the model's accuracy:"
      ]
    },
    {
      "cell_type": "code",
      "metadata": {
        "id": "8PYYCkbdeLVf",
        "colab_type": "code",
        "colab": {},
        "outputId": "288fdbc6-3d3f-49ef-88aa-fdc90a5801ef"
      },
      "source": [
        "from sklearn.metrics import accuracy_score\n",
        "\n",
        "ym_pred = grid_search_cv.predict(Xm_test)\n",
        "accuracy_score(ym_test, ym_pred)"
      ],
      "execution_count": 0,
      "outputs": [
        {
          "output_type": "execute_result",
          "data": {
            "text/plain": [
              "0.855"
            ]
          },
          "metadata": {
            "tags": []
          },
          "execution_count": 7
        }
      ]
    },
    {
      "cell_type": "markdown",
      "metadata": {
        "id": "1ADwllWdeLVh",
        "colab_type": "text"
      },
      "source": [
        "# Assignment 3-2"
      ]
    },
    {
      "cell_type": "markdown",
      "metadata": {
        "id": "A89X9FKOeLVi",
        "colab_type": "text"
      },
      "source": [
        "### Q1: What is the fundamental idea behind Support Vector Machines?"
      ]
    },
    {
      "cell_type": "markdown",
      "metadata": {
        "id": "GLRK7h2deLVj",
        "colab_type": "text"
      },
      "source": [
        "__Your Answer (less than 5 sentences):__  There are many hyperplanes that might classify the data. One reasonable choice as the best hyperplane is the one that represents the largest separation, or margin, between the two classes. So we choose the hyperplane so that the distance from it to the nearest data point on each side is maximized. (Find the hyperplane that maximizes the margine)"
      ]
    },
    {
      "cell_type": "markdown",
      "metadata": {
        "id": "2MZ5vr9PeLVj",
        "colab_type": "text"
      },
      "source": [
        "### Q2: What is a support vector?"
      ]
    },
    {
      "cell_type": "markdown",
      "metadata": {
        "id": "QfxIE5IceLVk",
        "colab_type": "text"
      },
      "source": [
        "__Your Answer (less than 3 sentences):__ Max-margin hyperplane is completely determined by those data points that lie nearest to it. These are called support vectors."
      ]
    },
    {
      "cell_type": "markdown",
      "metadata": {
        "id": "Aw-4kD-UeLVl",
        "colab_type": "text"
      },
      "source": [
        "### Q3: Say you trained an SVM classifier with an RBF kernel. It seems to underfit the training set. Should you increase or decrease $\\gamma$? What about *C*?"
      ]
    },
    {
      "cell_type": "markdown",
      "metadata": {
        "id": "kdZ3UE2_eLVl",
        "colab_type": "text"
      },
      "source": [
        "__Your Answer:__ According to result of KSE525_practice_2019_SVM file, we can see increasing gamma values and C improve underfit the training set issue."
      ]
    },
    {
      "cell_type": "markdown",
      "metadata": {
        "id": "jGMr6th5eLVm",
        "colab_type": "text"
      },
      "source": [
        "### Q4. Repeat Assignment 3-1 with SVM."
      ]
    },
    {
      "cell_type": "markdown",
      "metadata": {
        "id": "HHjywDeheLVn",
        "colab_type": "text"
      },
      "source": [
        "Try to train an `SVC` with various kernel functions and hyperparameter values."
      ]
    },
    {
      "cell_type": "code",
      "metadata": {
        "id": "7XRX1HqteLVn",
        "colab_type": "code",
        "colab": {},
        "outputId": "666d0f45-0dbb-4bff-fb1d-bf70a019015c"
      },
      "source": [
        "parameters2 = {'kernel':['linear','rbf'], 'C':[0.01, 1, 1000],'gamma': [0.1, 5,'auto']}\n",
        "\n",
        "grid_search_cv2 = GridSearchCV(SVC(random_state=42), parameters2, cv=3, n_jobs=-1, verbose=1)\n",
        "grid_search_cv2.fit(Xm_train, ym_train)"
      ],
      "execution_count": 0,
      "outputs": [
        {
          "output_type": "stream",
          "text": [
            "[Parallel(n_jobs=-1)]: Using backend LokyBackend with 4 concurrent workers.\n"
          ],
          "name": "stderr"
        },
        {
          "output_type": "stream",
          "text": [
            "Fitting 3 folds for each of 18 candidates, totalling 54 fits\n"
          ],
          "name": "stdout"
        },
        {
          "output_type": "stream",
          "text": [
            "[Parallel(n_jobs=-1)]: Done  42 tasks      | elapsed:   24.4s\n",
            "[Parallel(n_jobs=-1)]: Done  54 out of  54 | elapsed:  1.2min finished\n"
          ],
          "name": "stderr"
        },
        {
          "output_type": "execute_result",
          "data": {
            "text/plain": [
              "GridSearchCV(cv=3, error_score='raise-deprecating',\n",
              "       estimator=SVC(C=1.0, cache_size=200, class_weight=None, coef0=0.0,\n",
              "  decision_function_shape='ovr', degree=3, gamma='auto_deprecated',\n",
              "  kernel='rbf', max_iter=-1, probability=False, random_state=42,\n",
              "  shrinking=True, tol=0.001, verbose=False),\n",
              "       fit_params=None, iid='warn', n_jobs=-1,\n",
              "       param_grid={'C': [0.01, 1, 1000], 'gamma': [0.1, 5, 'auto'], 'kernel': ['linear', 'rbf']},\n",
              "       pre_dispatch='2*n_jobs', refit=True, return_train_score='warn',\n",
              "       scoring=None, verbose=1)"
            ]
          },
          "metadata": {
            "tags": []
          },
          "execution_count": 8
        }
      ]
    },
    {
      "cell_type": "code",
      "metadata": {
        "id": "WL1ttTr2eLVr",
        "colab_type": "code",
        "colab": {},
        "outputId": "0a6d2bdb-bc15-4ec1-e379-f9cb8072f7f1"
      },
      "source": [
        "grid_search_cv2.best_estimator_"
      ],
      "execution_count": 0,
      "outputs": [
        {
          "output_type": "execute_result",
          "data": {
            "text/plain": [
              "SVC(C=1000, cache_size=200, class_weight=None, coef0=0.0,\n",
              "  decision_function_shape='ovr', degree=3, gamma='auto', kernel='rbf',\n",
              "  max_iter=-1, probability=False, random_state=42, shrinking=True,\n",
              "  tol=0.001, verbose=False)"
            ]
          },
          "metadata": {
            "tags": []
          },
          "execution_count": 9
        }
      ]
    },
    {
      "cell_type": "code",
      "metadata": {
        "id": "JKwDq5VIeLVu",
        "colab_type": "code",
        "colab": {},
        "outputId": "09c2fc00-ddcb-408a-f6d9-fa2086db5a1c"
      },
      "source": [
        "ym_pred2 = grid_search_cv2.predict(Xm_test)\n",
        "accuracy_score(ym_test, ym_pred2)"
      ],
      "execution_count": 0,
      "outputs": [
        {
          "output_type": "execute_result",
          "data": {
            "text/plain": [
              "0.866"
            ]
          },
          "metadata": {
            "tags": []
          },
          "execution_count": 10
        }
      ]
    }
  ]
}